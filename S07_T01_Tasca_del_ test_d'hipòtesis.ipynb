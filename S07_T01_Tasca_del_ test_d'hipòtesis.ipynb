{
 "cells": [
  {
   "cell_type": "markdown",
   "id": "dcd6be5a",
   "metadata": {},
   "source": [
    "## Descripció"
   ]
  },
  {
   "cell_type": "markdown",
   "id": "81fbe001",
   "metadata": {},
   "source": [
    "Aprèn a realitzar test d'hipòtesis amb Python."
   ]
  },
  {
   "cell_type": "markdown",
   "id": "317c79e2",
   "metadata": {},
   "source": [
    "## Nivell 1"
   ]
  },
  {
   "cell_type": "markdown",
   "id": "432690a4",
   "metadata": {},
   "source": [
    "**- Exercici 1:**\n",
    "Agafa un conjunt de dades de tema esportiu que t'agradi i selecciona un atribut del conjunt de dades. Calcula el p-valor i digues si rebutja la hipòtesi nul·la agafant un alfa de 5%. "
   ]
  },
  {
   "cell_type": "markdown",
   "id": "872731c2",
   "metadata": {},
   "source": [
    "Prenem la base de dades d'atletes de les olímpiades :\n",
    "https://www.kaggle.com/heesoo37/120-years-of-olympic-history-athletes-and-results\n",
    "\n",
    "Abstrat: basic bio data on athletes and medal results from Athens 1896 to Rio 2016\n",
    "\n",
    "I n'agafem les dades dels practicants d'atletisme només:"
   ]
  },
  {
   "cell_type": "code",
   "execution_count": 1,
   "id": "0b2ddb56",
   "metadata": {
    "collapsed": true
   },
   "outputs": [],
   "source": [
    "import numpy as np\n",
    "import pandas as pd\n",
    "import matplotlib.pyplot as plt\n",
    "import seaborn as sns"
   ]
  },
  {
   "cell_type": "code",
   "execution_count": 2,
   "id": "ed531c77",
   "metadata": {
    "collapsed": true
   },
   "outputs": [
    {
     "data": {
      "text/html": [
       "<div>\n",
       "<style scoped>\n",
       "    .dataframe tbody tr th:only-of-type {\n",
       "        vertical-align: middle;\n",
       "    }\n",
       "\n",
       "    .dataframe tbody tr th {\n",
       "        vertical-align: top;\n",
       "    }\n",
       "\n",
       "    .dataframe thead th {\n",
       "        text-align: right;\n",
       "    }\n",
       "</style>\n",
       "<table border=\"1\" class=\"dataframe\">\n",
       "  <thead>\n",
       "    <tr style=\"text-align: right;\">\n",
       "      <th></th>\n",
       "      <th>ID</th>\n",
       "      <th>Name</th>\n",
       "      <th>Sex</th>\n",
       "      <th>Age</th>\n",
       "      <th>Height</th>\n",
       "      <th>Weight</th>\n",
       "      <th>Team</th>\n",
       "      <th>NOC</th>\n",
       "      <th>Games</th>\n",
       "      <th>Year</th>\n",
       "      <th>Season</th>\n",
       "      <th>City</th>\n",
       "      <th>Event</th>\n",
       "      <th>Medal</th>\n",
       "    </tr>\n",
       "  </thead>\n",
       "  <tbody>\n",
       "    <tr>\n",
       "      <th>26</th>\n",
       "      <td>8</td>\n",
       "      <td>Cornelia \"Cor\" Aalten (-Strannood)</td>\n",
       "      <td>F</td>\n",
       "      <td>18.0</td>\n",
       "      <td>168.0</td>\n",
       "      <td>NaN</td>\n",
       "      <td>Netherlands</td>\n",
       "      <td>NED</td>\n",
       "      <td>1932 Summer</td>\n",
       "      <td>1932</td>\n",
       "      <td>Summer</td>\n",
       "      <td>Los Angeles</td>\n",
       "      <td>Athletics Women's 100 metres</td>\n",
       "      <td>NaN</td>\n",
       "    </tr>\n",
       "    <tr>\n",
       "      <th>27</th>\n",
       "      <td>8</td>\n",
       "      <td>Cornelia \"Cor\" Aalten (-Strannood)</td>\n",
       "      <td>F</td>\n",
       "      <td>18.0</td>\n",
       "      <td>168.0</td>\n",
       "      <td>NaN</td>\n",
       "      <td>Netherlands</td>\n",
       "      <td>NED</td>\n",
       "      <td>1932 Summer</td>\n",
       "      <td>1932</td>\n",
       "      <td>Summer</td>\n",
       "      <td>Los Angeles</td>\n",
       "      <td>Athletics Women's 4 x 100 metres Relay</td>\n",
       "      <td>NaN</td>\n",
       "    </tr>\n",
       "    <tr>\n",
       "      <th>57</th>\n",
       "      <td>18</td>\n",
       "      <td>Timo Antero Aaltonen</td>\n",
       "      <td>M</td>\n",
       "      <td>31.0</td>\n",
       "      <td>189.0</td>\n",
       "      <td>130.0</td>\n",
       "      <td>Finland</td>\n",
       "      <td>FIN</td>\n",
       "      <td>2000 Summer</td>\n",
       "      <td>2000</td>\n",
       "      <td>Summer</td>\n",
       "      <td>Sydney</td>\n",
       "      <td>Athletics Men's Shot Put</td>\n",
       "      <td>NaN</td>\n",
       "    </tr>\n",
       "    <tr>\n",
       "      <th>94</th>\n",
       "      <td>31</td>\n",
       "      <td>Evald rma (rman-)</td>\n",
       "      <td>M</td>\n",
       "      <td>24.0</td>\n",
       "      <td>174.0</td>\n",
       "      <td>70.0</td>\n",
       "      <td>Estonia</td>\n",
       "      <td>EST</td>\n",
       "      <td>1936 Summer</td>\n",
       "      <td>1936</td>\n",
       "      <td>Summer</td>\n",
       "      <td>Berlin</td>\n",
       "      <td>Athletics Men's Pole Vault</td>\n",
       "      <td>NaN</td>\n",
       "    </tr>\n",
       "    <tr>\n",
       "      <th>95</th>\n",
       "      <td>32</td>\n",
       "      <td>Olav Augunson Aarnes</td>\n",
       "      <td>M</td>\n",
       "      <td>23.0</td>\n",
       "      <td>NaN</td>\n",
       "      <td>NaN</td>\n",
       "      <td>Norway</td>\n",
       "      <td>NOR</td>\n",
       "      <td>1912 Summer</td>\n",
       "      <td>1912</td>\n",
       "      <td>Summer</td>\n",
       "      <td>Stockholm</td>\n",
       "      <td>Athletics Men's High Jump</td>\n",
       "      <td>NaN</td>\n",
       "    </tr>\n",
       "  </tbody>\n",
       "</table>\n",
       "</div>"
      ],
      "text/plain": [
       "    ID                                Name Sex   Age  Height  Weight  \\\n",
       "26   8  Cornelia \"Cor\" Aalten (-Strannood)   F  18.0   168.0     NaN   \n",
       "27   8  Cornelia \"Cor\" Aalten (-Strannood)   F  18.0   168.0     NaN   \n",
       "57  18                Timo Antero Aaltonen   M  31.0   189.0   130.0   \n",
       "94  31                   Evald rma (rman-)   M  24.0   174.0    70.0   \n",
       "95  32                Olav Augunson Aarnes   M  23.0     NaN     NaN   \n",
       "\n",
       "           Team  NOC        Games  Year  Season         City  \\\n",
       "26  Netherlands  NED  1932 Summer  1932  Summer  Los Angeles   \n",
       "27  Netherlands  NED  1932 Summer  1932  Summer  Los Angeles   \n",
       "57      Finland  FIN  2000 Summer  2000  Summer       Sydney   \n",
       "94      Estonia  EST  1936 Summer  1936  Summer       Berlin   \n",
       "95       Norway  NOR  1912 Summer  1912  Summer    Stockholm   \n",
       "\n",
       "                                     Event Medal  \n",
       "26            Athletics Women's 100 metres   NaN  \n",
       "27  Athletics Women's 4 x 100 metres Relay   NaN  \n",
       "57                Athletics Men's Shot Put   NaN  \n",
       "94              Athletics Men's Pole Vault   NaN  \n",
       "95               Athletics Men's High Jump   NaN  "
      ]
     },
     "execution_count": 2,
     "metadata": {},
     "output_type": "execute_result"
    }
   ],
   "source": [
    "athletes_df=pd.read_csv('athlete_events.csv')\n",
    "athletes_df.drop(athletes_df[athletes_df['Sport']!='Athletics'].index,inplace=True)\n",
    "del athletes_df['Sport']\n",
    "athletes_df.head()"
   ]
  },
  {
   "cell_type": "code",
   "execution_count": 3,
   "id": "68e1114b",
   "metadata": {
    "collapsed": true
   },
   "outputs": [
    {
     "data": {
      "image/png": "[encoded data removed]",
      "text/plain": [
       "<Figure size 432x288 with 1 Axes>"
      ]
     },
     "metadata": {
      "needs_background": "light"
     },
     "output_type": "display_data"
    }
   ],
   "source": [
    "plt.hist(athletes_df['Age'], bins=40)\n",
    "plt.show()"
   ]
  },
  {
   "cell_type": "code",
   "execution_count": 4,
   "id": "83a9a570",
   "metadata": {
    "collapsed": true
   },
   "outputs": [
    {
     "data": {
      "image/png": "[encoded data removed]",
      "text/plain": [
       "<Figure size 432x288 with 1 Axes>"
      ]
     },
     "metadata": {
      "needs_background": "light"
     },
     "output_type": "display_data"
    }
   ],
   "source": [
    "plt.hist(athletes_df['Weight'], bins=40)\n",
    "plt.show()"
   ]
  },
  {
   "cell_type": "code",
   "execution_count": 5,
   "id": "de32322f",
   "metadata": {
    "collapsed": true
   },
   "outputs": [
    {
     "data": {
      "image/png": "[encoded data removed]",
      "text/plain": [
       "<Figure size 432x288 with 1 Axes>"
      ]
     },
     "metadata": {
      "needs_background": "light"
     },
     "output_type": "display_data"
    }
   ],
   "source": [
    "plt.hist(athletes_df['Height'], bins=40)\n",
    "plt.show()"
   ]
  },
  {
   "cell_type": "code",
   "execution_count": 6,
   "id": "61605065",
   "metadata": {
    "collapsed": true
   },
   "outputs": [
    {
     "name": "stdout",
     "output_type": "stream",
     "text": [
      "<class 'pandas.core.frame.DataFrame'>\n",
      "Int64Index: 38624 entries, 26 to 271103\n",
      "Data columns (total 14 columns):\n",
      " #   Column  Non-Null Count  Dtype  \n",
      "---  ------  --------------  -----  \n",
      " 0   ID      38624 non-null  int64  \n",
      " 1   Name    38624 non-null  object \n",
      " 2   Sex     38624 non-null  object \n",
      " 3   Age     37507 non-null  float64\n",
      " 4   Height  32907 non-null  float64\n",
      " 5   Weight  32601 non-null  float64\n",
      " 6   Team    38624 non-null  object \n",
      " 7   NOC     38624 non-null  object \n",
      " 8   Games   38624 non-null  object \n",
      " 9   Year    38624 non-null  int64  \n",
      " 10  Season  38624 non-null  object \n",
      " 11  City    38624 non-null  object \n",
      " 12  Event   38624 non-null  object \n",
      " 13  Medal   3969 non-null   object \n",
      "dtypes: float64(3), int64(2), object(9)\n",
      "memory usage: 4.4+ MB\n"
     ]
    }
   ],
   "source": [
    "athletes_df.info()"
   ]
  },
  {
   "cell_type": "markdown",
   "id": "cf668ede",
   "metadata": {},
   "source": [
    "Falten moltes dades d'edat, pes i alçada. Les substituim pel promig del grup distingint entre home i dona:"
   ]
  },
  {
   "cell_type": "code",
   "execution_count": 7,
   "id": "b451925c",
   "metadata": {
    "collapsed": true
   },
   "outputs": [],
   "source": [
    "par_to_fil=['Age',  'Height' , 'Weight'] \n",
    "athletes_df_modif=athletes_df.copy()\n",
    "for s in ['M','F']:\n",
    "        for p in par_to_fil:\n",
    "            mean=athletes_df_modif[athletes_df_modif['Sex']==s][p].mean()\n",
    "            athletes_df_modif.loc[(athletes_df_modif[p].isnull())&(athletes_df_modif['Sex']==s),p]=float(mean)        "
   ]
  },
  {
   "cell_type": "code",
   "execution_count": 8,
   "id": "02b1b869",
   "metadata": {
    "collapsed": true
   },
   "outputs": [
    {
     "name": "stdout",
     "output_type": "stream",
     "text": [
      "<class 'pandas.core.frame.DataFrame'>\n",
      "Int64Index: 38624 entries, 26 to 271103\n",
      "Data columns (total 14 columns):\n",
      " #   Column  Non-Null Count  Dtype  \n",
      "---  ------  --------------  -----  \n",
      " 0   ID      38624 non-null  int64  \n",
      " 1   Name    38624 non-null  object \n",
      " 2   Sex     38624 non-null  object \n",
      " 3   Age     38624 non-null  float64\n",
      " 4   Height  38624 non-null  float64\n",
      " 5   Weight  38624 non-null  float64\n",
      " 6   Team    38624 non-null  object \n",
      " 7   NOC     38624 non-null  object \n",
      " 8   Games   38624 non-null  object \n",
      " 9   Year    38624 non-null  int64  \n",
      " 10  Season  38624 non-null  object \n",
      " 11  City    38624 non-null  object \n",
      " 12  Event   38624 non-null  object \n",
      " 13  Medal   3969 non-null   object \n",
      "dtypes: float64(3), int64(2), object(9)\n",
      "memory usage: 4.4+ MB\n"
     ]
    }
   ],
   "source": [
    "athletes_df_modif.info()"
   ]
  },
  {
   "cell_type": "code",
   "execution_count": 9,
   "id": "ca95717b",
   "metadata": {
    "collapsed": true
   },
   "outputs": [
    {
     "data": {
      "image/png": "[encoded data removed]",
      "text/plain": [
       "<Figure size 432x288 with 1 Axes>"
      ]
     },
     "metadata": {
      "needs_background": "light"
     },
     "output_type": "display_data"
    }
   ],
   "source": [
    "plt.hist(athletes_df_modif['Age'], bins=40)\n",
    "plt.show()"
   ]
  },
  {
   "cell_type": "code",
   "execution_count": 10,
   "id": "29276f29",
   "metadata": {
    "collapsed": true
   },
   "outputs": [
    {
     "data": {
      "image/png": "[encoded data removed]",
      "text/plain": [
       "<Figure size 432x288 with 1 Axes>"
      ]
     },
     "metadata": {
      "needs_background": "light"
     },
     "output_type": "display_data"
    }
   ],
   "source": [
    "plt.hist(athletes_df_modif['Weight'], bins=40)\n",
    "plt.show()"
   ]
  },
  {
   "cell_type": "code",
   "execution_count": 11,
   "id": "441abbe5",
   "metadata": {
    "collapsed": true
   },
   "outputs": [
    {
     "data": {
      "image/png": "[encoded data removed]",
      "text/plain": [
       "<Figure size 432x288 with 1 Axes>"
      ]
     },
     "metadata": {
      "needs_background": "light"
     },
     "output_type": "display_data"
    }
   ],
   "source": [
    "plt.hist(athletes_df_modif['Height'], bins=40)\n",
    "plt.show()"
   ]
  },
  {
   "cell_type": "markdown",
   "id": "503fa3b6",
   "metadata": {},
   "source": [
    "Si les comparem amb les dades anteriors al fer aquesta modificació donem massa preminència al promig. De tal manera que treballaré amb les dades reals sense correcció de la falta de dades."
   ]
  },
  {
   "cell_type": "code",
   "execution_count": 12,
   "id": "4944ab0d",
   "metadata": {
    "collapsed": true
   },
   "outputs": [],
   "source": [
    "athletes_df_no_null=athletes_df.copy()\n",
    "#filtering index where marks =100\n",
    "indexes = athletes_df_no_null[(athletes_df_no_null['Age'].isnull())|( athletes_df_no_null['Height'].isnull())|(athletes_df_no_null['Weight'].isnull())].index"
   ]
  },
  {
   "cell_type": "code",
   "execution_count": 13,
   "id": "574dfe62",
   "metadata": {
    "collapsed": true
   },
   "outputs": [
    {
     "name": "stdout",
     "output_type": "stream",
     "text": [
      "<class 'pandas.core.frame.DataFrame'>\n",
      "Int64Index: 38624 entries, 26 to 271103\n",
      "Data columns (total 14 columns):\n",
      " #   Column  Non-Null Count  Dtype  \n",
      "---  ------  --------------  -----  \n",
      " 0   ID      38624 non-null  int64  \n",
      " 1   Name    38624 non-null  object \n",
      " 2   Sex     38624 non-null  object \n",
      " 3   Age     37507 non-null  float64\n",
      " 4   Height  32907 non-null  float64\n",
      " 5   Weight  32601 non-null  float64\n",
      " 6   Team    38624 non-null  object \n",
      " 7   NOC     38624 non-null  object \n",
      " 8   Games   38624 non-null  object \n",
      " 9   Year    38624 non-null  int64  \n",
      " 10  Season  38624 non-null  object \n",
      " 11  City    38624 non-null  object \n",
      " 12  Event   38624 non-null  object \n",
      " 13  Medal   3969 non-null   object \n",
      "dtypes: float64(3), int64(2), object(9)\n",
      "memory usage: 4.4+ MB\n"
     ]
    }
   ],
   "source": [
    "athletes_df_no_null.info()"
   ]
  },
  {
   "cell_type": "code",
   "execution_count": 14,
   "id": "997cb608",
   "metadata": {
    "collapsed": true
   },
   "outputs": [
    {
     "name": "stdout",
     "output_type": "stream",
     "text": [
      "<class 'pandas.core.frame.DataFrame'>\n",
      "Int64Index: 32374 entries, 57 to 271103\n",
      "Data columns (total 14 columns):\n",
      " #   Column  Non-Null Count  Dtype  \n",
      "---  ------  --------------  -----  \n",
      " 0   ID      32374 non-null  int64  \n",
      " 1   Name    32374 non-null  object \n",
      " 2   Sex     32374 non-null  object \n",
      " 3   Age     32374 non-null  float64\n",
      " 4   Height  32374 non-null  float64\n",
      " 5   Weight  32374 non-null  float64\n",
      " 6   Team    32374 non-null  object \n",
      " 7   NOC     32374 non-null  object \n",
      " 8   Games   32374 non-null  object \n",
      " 9   Year    32374 non-null  int64  \n",
      " 10  Season  32374 non-null  object \n",
      " 11  City    32374 non-null  object \n",
      " 12  Event   32374 non-null  object \n",
      " 13  Medal   3648 non-null   object \n",
      "dtypes: float64(3), int64(2), object(9)\n",
      "memory usage: 3.7+ MB\n"
     ]
    }
   ],
   "source": [
    "#eliminar registres amb valors nuls\n",
    "athletes_df_no_null.drop(indexes,inplace=True)\n",
    "athletes_df_no_null.info()"
   ]
  },
  {
   "cell_type": "code",
   "execution_count": 15,
   "id": "ff64ad22",
   "metadata": {
    "collapsed": true
   },
   "outputs": [
    {
     "data": {
      "text/plain": [
       "array([nan, 'Silver', 'Bronze', 'Gold'], dtype=object)"
      ]
     },
     "execution_count": 15,
     "metadata": {},
     "output_type": "execute_result"
    }
   ],
   "source": [
    "athletes_df_no_null.Medal.unique()"
   ]
  },
  {
   "cell_type": "markdown",
   "id": "61e27465",
   "metadata": {},
   "source": [
    "Prenem un atribut del dataframe i evaluem si té una distribució Gausiana. De tal manera que:\n",
    "   * H0= Les dades de l'atribut tenen una distribusió Gausiana\n",
    "   * Ha= Les dades de l'atribut no tenen una distribució Gausiana"
   ]
  },
  {
   "cell_type": "code",
   "execution_count": 16,
   "id": "5d7f3d3c",
   "metadata": {
    "collapsed": true
   },
   "outputs": [],
   "source": [
    "age=list(athletes_df_no_null.Age)\n",
    "height=list(athletes_df_no_null.Height)\n",
    "weight=list(athletes_df_no_null.Weight)\n",
    "parameters_Ath=[age,height,weight]\n",
    "parameters_Ath_name=['age','height','weight']"
   ]
  },
  {
   "cell_type": "code",
   "execution_count": 17,
   "id": "54383ebd",
   "metadata": {
    "collapsed": true
   },
   "outputs": [
    {
     "name": "stdout",
     "output_type": "stream",
     "text": [
      "stat=2533.472, p=0.000\n",
      "Probably not Gaussian\n",
      "stat=90.397, p=0.000\n",
      "Probably not Gaussian\n",
      "stat=9094.125, p=0.000\n",
      "Probably not Gaussian\n"
     ]
    }
   ],
   "source": [
    "# Example of the D'Agostino's K^2 Normality Test\n",
    "from scipy.stats import normaltest\n",
    "def normality_Agost_K2(data):\n",
    "    stat, p = normaltest(data)\n",
    "    print('stat=%.3f, p=%.3f' % (stat, p))\n",
    "    if p > 0.05:\n",
    "        print('Probably Gaussian')\n",
    "    else:\n",
    "        print('Probably not Gaussian')\n",
    "normality_Agost_K2(age)\n",
    "normality_Agost_K2(height);\n",
    "normality_Agost_K2(weight);"
   ]
  },
  {
   "cell_type": "code",
   "execution_count": 18,
   "id": "c3f79ac7",
   "metadata": {
    "collapsed": true
   },
   "outputs": [
    {
     "name": "stdout",
     "output_type": "stream",
     "text": [
      "Normality Test d'Agostino's K^2\n",
      "* * * * * * * * AGE * * * * * * * * * *\n",
      "stat=2533.472, p=0.000\n",
      "Probably not Gaussian\n",
      "* * * * * * * * HEIGHT * * * * * * * * * *\n",
      "stat=90.397, p=0.000\n",
      "Probably not Gaussian\n",
      "* * * * * * * * WEIGHT * * * * * * * * * *\n",
      "stat=9094.125, p=0.000\n",
      "Probably not Gaussian\n"
     ]
    }
   ],
   "source": [
    "print (\"Normality Test d'Agostino's K^2\")\n",
    "z=0\n",
    "for x in parameters_Ath:\n",
    "    print(f'* * * * * * * * {parameters_Ath_name[z].upper()} * * * * * * * * * *')\n",
    "    normality_Agost_K2(x)\n",
    "    z+=1\n"
   ]
  },
  {
   "cell_type": "code",
   "execution_count": 19,
   "id": "4ccb0cac",
   "metadata": {
    "collapsed": true
   },
   "outputs": [],
   "source": [
    "# Example of the Anderson-Darling Normality Test\n",
    "from scipy.stats import anderson\n",
    "def normality_And_Darl(data):\n",
    "    result = anderson(data)\n",
    "    print('stat=%.3f' % (result.statistic))\n",
    "    for i in range(len(result.critical_values)):\n",
    "        sl, cv = result.significance_level[i], result.critical_values[i]\n",
    "        print (cv)\n",
    "        if result.statistic < cv:\n",
    "            print('Probably Gaussian at the %.1f%% level' % (sl))\n",
    "        else:\n",
    "            print('Probably not Gaussian at the %.1f%% level' % (sl))\n"
   ]
  },
  {
   "cell_type": "code",
   "execution_count": 20,
   "id": "bde47589",
   "metadata": {
    "collapsed": true
   },
   "outputs": [
    {
     "name": "stdout",
     "output_type": "stream",
     "text": [
      "Normality Test d'Anderson-Darling\n",
      "* * * * * * * * AGE * * * * * * * * * *\n",
      "stat=246.484\n",
      "0.576\n",
      "Probably not Gaussian at the 15.0% level\n",
      "0.656\n",
      "Probably not Gaussian at the 10.0% level\n",
      "0.787\n",
      "Probably not Gaussian at the 5.0% level\n",
      "0.918\n",
      "Probably not Gaussian at the 2.5% level\n",
      "1.092\n",
      "Probably not Gaussian at the 1.0% level\n",
      "* * * * * * * * HEIGHT * * * * * * * * * *\n",
      "stat=31.620\n",
      "0.576\n",
      "Probably not Gaussian at the 15.0% level\n",
      "0.656\n",
      "Probably not Gaussian at the 10.0% level\n",
      "0.787\n",
      "Probably not Gaussian at the 5.0% level\n",
      "0.918\n",
      "Probably not Gaussian at the 2.5% level\n",
      "1.092\n",
      "Probably not Gaussian at the 1.0% level\n",
      "* * * * * * * * WEIGHT * * * * * * * * * *\n",
      "stat=664.128\n",
      "0.576\n",
      "Probably not Gaussian at the 15.0% level\n",
      "0.656\n",
      "Probably not Gaussian at the 10.0% level\n",
      "0.787\n",
      "Probably not Gaussian at the 5.0% level\n",
      "0.918\n",
      "Probably not Gaussian at the 2.5% level\n",
      "1.092\n",
      "Probably not Gaussian at the 1.0% level\n"
     ]
    }
   ],
   "source": [
    "print (\"Normality Test d'Anderson-Darling\")\n",
    "z=0\n",
    "for x in parameters_Ath:\n",
    "    print(f'* * * * * * * * {parameters_Ath_name[z].upper()} * * * * * * * * * *')\n",
    "    normality_And_Darl(x)\n",
    "    z+=1"
   ]
  },
  {
   "cell_type": "markdown",
   "id": "ecd1cc44",
   "metadata": {},
   "source": [
    "Les dades no són consistents amb una distribució Gaussiana."
   ]
  },
  {
   "cell_type": "markdown",
   "id": "8496cfc3",
   "metadata": {},
   "source": [
    "## Nivell 2"
   ]
  },
  {
   "cell_type": "markdown",
   "id": "7e66f58e",
   "metadata": {},
   "source": [
    "**- Exercici 2:**\n",
    "Continua amb el conjunt de dades de tema esportiu que t'agradi i selecciona dos altres atributs del conjunt de dades. Calcula els p-valors i digues si rebutgen la hipòtesi nul·la agafant un alfa de 5%."
   ]
  },
  {
   "cell_type": "raw",
   "id": "4d8be422",
   "metadata": {},
   "source": [
    "Prenem l'atribut d'alçada i amb l'atribut de medalla definim dos grups, els athletes amb medalla i els que no.  Primer de tot, dividim el dataframe inicial entre dos segons tenen medalla o no:"
   ]
  },
  {
   "cell_type": "code",
   "execution_count": 21,
   "id": "301851cf",
   "metadata": {
    "collapsed": true
   },
   "outputs": [
    {
     "name": "stdout",
     "output_type": "stream",
     "text": [
      "<class 'pandas.core.frame.DataFrame'>\n",
      "Int64Index: 28726 entries, 57 to 271079\n",
      "Data columns (total 14 columns):\n",
      " #   Column  Non-Null Count  Dtype  \n",
      "---  ------  --------------  -----  \n",
      " 0   ID      28726 non-null  int64  \n",
      " 1   Name    28726 non-null  object \n",
      " 2   Sex     28726 non-null  object \n",
      " 3   Age     28726 non-null  float64\n",
      " 4   Height  28726 non-null  float64\n",
      " 5   Weight  28726 non-null  float64\n",
      " 6   Team    28726 non-null  object \n",
      " 7   NOC     28726 non-null  object \n",
      " 8   Games   28726 non-null  object \n",
      " 9   Year    28726 non-null  int64  \n",
      " 10  Season  28726 non-null  object \n",
      " 11  City    28726 non-null  object \n",
      " 12  Event   28726 non-null  object \n",
      " 13  Medal   0 non-null      object \n",
      "dtypes: float64(3), int64(2), object(9)\n",
      "memory usage: 3.3+ MB\n"
     ]
    }
   ],
   "source": [
    "athletes_df_no_medals=athletes_df_no_null.copy()\n",
    "#filtering index where marks =100\n",
    "indexes = athletes_df_no_medals[(athletes_df_no_medals['Medal'].isnull())==False].index\n",
    "athletes_df_no_medals.drop(indexes, inplace=True)\n",
    "athletes_df_no_medals.info()"
   ]
  },
  {
   "cell_type": "code",
   "execution_count": 22,
   "id": "998d4610",
   "metadata": {
    "collapsed": true
   },
   "outputs": [
    {
     "name": "stdout",
     "output_type": "stream",
     "text": [
      "<class 'pandas.core.frame.DataFrame'>\n",
      "Int64Index: 3648 entries, 163 to 271103\n",
      "Data columns (total 14 columns):\n",
      " #   Column  Non-Null Count  Dtype  \n",
      "---  ------  --------------  -----  \n",
      " 0   ID      3648 non-null   int64  \n",
      " 1   Name    3648 non-null   object \n",
      " 2   Sex     3648 non-null   object \n",
      " 3   Age     3648 non-null   float64\n",
      " 4   Height  3648 non-null   float64\n",
      " 5   Weight  3648 non-null   float64\n",
      " 6   Team    3648 non-null   object \n",
      " 7   NOC     3648 non-null   object \n",
      " 8   Games   3648 non-null   object \n",
      " 9   Year    3648 non-null   int64  \n",
      " 10  Season  3648 non-null   object \n",
      " 11  City    3648 non-null   object \n",
      " 12  Event   3648 non-null   object \n",
      " 13  Medal   3648 non-null   object \n",
      "dtypes: float64(3), int64(2), object(9)\n",
      "memory usage: 427.5+ KB\n"
     ]
    }
   ],
   "source": [
    "athletes_df_medals=athletes_df_no_null.copy()\n",
    "#filtering index where marks =100\n",
    "indexes = athletes_df_medals[(athletes_df_medals['Medal'].isnull())].index\n",
    "athletes_df_medals.drop(indexes, inplace=True)\n",
    "athletes_df_medals.info()"
   ]
  },
  {
   "cell_type": "code",
   "execution_count": 23,
   "id": "9d6a180d",
   "metadata": {
    "collapsed": true
   },
   "outputs": [
    {
     "data": {
      "text/html": [
       "<div>\n",
       "<style scoped>\n",
       "    .dataframe tbody tr th:only-of-type {\n",
       "        vertical-align: middle;\n",
       "    }\n",
       "\n",
       "    .dataframe tbody tr th {\n",
       "        vertical-align: top;\n",
       "    }\n",
       "\n",
       "    .dataframe thead th {\n",
       "        text-align: right;\n",
       "    }\n",
       "</style>\n",
       "<table border=\"1\" class=\"dataframe\">\n",
       "  <thead>\n",
       "    <tr style=\"text-align: right;\">\n",
       "      <th></th>\n",
       "      <th>ID</th>\n",
       "      <th>Age</th>\n",
       "      <th>Height</th>\n",
       "      <th>Weight</th>\n",
       "      <th>Year</th>\n",
       "    </tr>\n",
       "  </thead>\n",
       "  <tbody>\n",
       "    <tr>\n",
       "      <th>count</th>\n",
       "      <td>3648.000000</td>\n",
       "      <td>3648.000000</td>\n",
       "      <td>3648.000000</td>\n",
       "      <td>3648.000000</td>\n",
       "      <td>3648.000000</td>\n",
       "    </tr>\n",
       "    <tr>\n",
       "      <th>mean</th>\n",
       "      <td>67600.429002</td>\n",
       "      <td>25.099507</td>\n",
       "      <td>177.627467</td>\n",
       "      <td>71.513158</td>\n",
       "      <td>1970.657346</td>\n",
       "    </tr>\n",
       "    <tr>\n",
       "      <th>std</th>\n",
       "      <td>38634.880657</td>\n",
       "      <td>4.047459</td>\n",
       "      <td>9.115514</td>\n",
       "      <td>15.784867</td>\n",
       "      <td>33.167933</td>\n",
       "    </tr>\n",
       "    <tr>\n",
       "      <th>min</th>\n",
       "      <td>67.000000</td>\n",
       "      <td>15.000000</td>\n",
       "      <td>150.000000</td>\n",
       "      <td>40.000000</td>\n",
       "      <td>1896.000000</td>\n",
       "    </tr>\n",
       "    <tr>\n",
       "      <th>25%</th>\n",
       "      <td>33732.750000</td>\n",
       "      <td>22.000000</td>\n",
       "      <td>171.000000</td>\n",
       "      <td>60.000000</td>\n",
       "      <td>1948.000000</td>\n",
       "    </tr>\n",
       "    <tr>\n",
       "      <th>50%</th>\n",
       "      <td>66922.500000</td>\n",
       "      <td>25.000000</td>\n",
       "      <td>178.000000</td>\n",
       "      <td>69.000000</td>\n",
       "      <td>1976.000000</td>\n",
       "    </tr>\n",
       "    <tr>\n",
       "      <th>75%</th>\n",
       "      <td>101050.000000</td>\n",
       "      <td>28.000000</td>\n",
       "      <td>184.000000</td>\n",
       "      <td>79.000000</td>\n",
       "      <td>2000.000000</td>\n",
       "    </tr>\n",
       "    <tr>\n",
       "      <th>max</th>\n",
       "      <td>135563.000000</td>\n",
       "      <td>48.000000</td>\n",
       "      <td>207.000000</td>\n",
       "      <td>154.000000</td>\n",
       "      <td>2016.000000</td>\n",
       "    </tr>\n",
       "  </tbody>\n",
       "</table>\n",
       "</div>"
      ],
      "text/plain": [
       "                  ID          Age       Height       Weight         Year\n",
       "count    3648.000000  3648.000000  3648.000000  3648.000000  3648.000000\n",
       "mean    67600.429002    25.099507   177.627467    71.513158  1970.657346\n",
       "std     38634.880657     4.047459     9.115514    15.784867    33.167933\n",
       "min        67.000000    15.000000   150.000000    40.000000  1896.000000\n",
       "25%     33732.750000    22.000000   171.000000    60.000000  1948.000000\n",
       "50%     66922.500000    25.000000   178.000000    69.000000  1976.000000\n",
       "75%    101050.000000    28.000000   184.000000    79.000000  2000.000000\n",
       "max    135563.000000    48.000000   207.000000   154.000000  2016.000000"
      ]
     },
     "execution_count": 23,
     "metadata": {},
     "output_type": "execute_result"
    }
   ],
   "source": [
    "athletes_df_medals.describe()"
   ]
  },
  {
   "cell_type": "code",
   "execution_count": 24,
   "id": "245512a5",
   "metadata": {
    "collapsed": true
   },
   "outputs": [
    {
     "data": {
      "text/html": [
       "<div>\n",
       "<style scoped>\n",
       "    .dataframe tbody tr th:only-of-type {\n",
       "        vertical-align: middle;\n",
       "    }\n",
       "\n",
       "    .dataframe tbody tr th {\n",
       "        vertical-align: top;\n",
       "    }\n",
       "\n",
       "    .dataframe thead th {\n",
       "        text-align: right;\n",
       "    }\n",
       "</style>\n",
       "<table border=\"1\" class=\"dataframe\">\n",
       "  <thead>\n",
       "    <tr style=\"text-align: right;\">\n",
       "      <th></th>\n",
       "      <th>ID</th>\n",
       "      <th>Age</th>\n",
       "      <th>Height</th>\n",
       "      <th>Weight</th>\n",
       "      <th>Year</th>\n",
       "    </tr>\n",
       "  </thead>\n",
       "  <tbody>\n",
       "    <tr>\n",
       "      <th>count</th>\n",
       "      <td>28726.000000</td>\n",
       "      <td>28726.000000</td>\n",
       "      <td>28726.000000</td>\n",
       "      <td>28726.000000</td>\n",
       "      <td>28726.000000</td>\n",
       "    </tr>\n",
       "    <tr>\n",
       "      <th>mean</th>\n",
       "      <td>66845.638411</td>\n",
       "      <td>25.359500</td>\n",
       "      <td>176.104888</td>\n",
       "      <td>68.989348</td>\n",
       "      <td>1984.291722</td>\n",
       "    </tr>\n",
       "    <tr>\n",
       "      <th>std</th>\n",
       "      <td>39468.659389</td>\n",
       "      <td>4.449952</td>\n",
       "      <td>9.348190</td>\n",
       "      <td>15.350517</td>\n",
       "      <td>25.735355</td>\n",
       "    </tr>\n",
       "    <tr>\n",
       "      <th>min</th>\n",
       "      <td>18.000000</td>\n",
       "      <td>12.000000</td>\n",
       "      <td>142.000000</td>\n",
       "      <td>35.000000</td>\n",
       "      <td>1896.000000</td>\n",
       "    </tr>\n",
       "    <tr>\n",
       "      <th>25%</th>\n",
       "      <td>31989.000000</td>\n",
       "      <td>22.000000</td>\n",
       "      <td>170.000000</td>\n",
       "      <td>59.000000</td>\n",
       "      <td>1968.000000</td>\n",
       "    </tr>\n",
       "    <tr>\n",
       "      <th>50%</th>\n",
       "      <td>67744.000000</td>\n",
       "      <td>25.000000</td>\n",
       "      <td>176.000000</td>\n",
       "      <td>67.000000</td>\n",
       "      <td>1992.000000</td>\n",
       "    </tr>\n",
       "    <tr>\n",
       "      <th>75%</th>\n",
       "      <td>100625.250000</td>\n",
       "      <td>28.000000</td>\n",
       "      <td>183.000000</td>\n",
       "      <td>75.000000</td>\n",
       "      <td>2004.000000</td>\n",
       "    </tr>\n",
       "    <tr>\n",
       "      <th>max</th>\n",
       "      <td>135553.000000</td>\n",
       "      <td>52.000000</td>\n",
       "      <td>208.000000</td>\n",
       "      <td>165.000000</td>\n",
       "      <td>2016.000000</td>\n",
       "    </tr>\n",
       "  </tbody>\n",
       "</table>\n",
       "</div>"
      ],
      "text/plain": [
       "                  ID           Age        Height        Weight          Year\n",
       "count   28726.000000  28726.000000  28726.000000  28726.000000  28726.000000\n",
       "mean    66845.638411     25.359500    176.104888     68.989348   1984.291722\n",
       "std     39468.659389      4.449952      9.348190     15.350517     25.735355\n",
       "min        18.000000     12.000000    142.000000     35.000000   1896.000000\n",
       "25%     31989.000000     22.000000    170.000000     59.000000   1968.000000\n",
       "50%     67744.000000     25.000000    176.000000     67.000000   1992.000000\n",
       "75%    100625.250000     28.000000    183.000000     75.000000   2004.000000\n",
       "max    135553.000000     52.000000    208.000000    165.000000   2016.000000"
      ]
     },
     "execution_count": 24,
     "metadata": {},
     "output_type": "execute_result"
    }
   ],
   "source": [
    "athletes_df_no_medals.describe()"
   ]
  },
  {
   "cell_type": "markdown",
   "id": "bcfab70d",
   "metadata": {},
   "source": [
    "Comparant l'alçada, veiem que els medallistes tenen una alçada mitja de 177,62cm, mentre que els no medallistes una de 176.10cm. Es pot afirmar que els medallistes tenen una alçada estidisticament diferent a la dels no medallistes?"
   ]
  },
  {
   "cell_type": "markdown",
   "id": "356e3244",
   "metadata": {},
   "source": [
    "Establim:\n",
    "   * Hipotesis nul·la : alçada mitja dels atletes és 176.1cm\n",
    "   * Hipotesis alternativa : l'alçada dels atletes medallistes és superior \n",
    "   * Desviació estandar dels no medallistes: 9.35\n",
    "   * Desviació estandar dels  medallistes: 9.12"
   ]
  },
  {
   "cell_type": "code",
   "execution_count": 25,
   "id": "f8d45a07",
   "metadata": {
    "collapsed": true
   },
   "outputs": [],
   "source": [
    "import statsmodels.api as sm"
   ]
  },
  {
   "cell_type": "code",
   "execution_count": 26,
   "id": "23b90d79",
   "metadata": {
    "collapsed": true
   },
   "outputs": [],
   "source": [
    "n2=len(athletes_df_no_medals)\n",
    "mean2=athletes_df_no_medals.Height.mean()\n",
    "std2=athletes_df_no_medals.Height.std()"
   ]
  },
  {
   "cell_type": "code",
   "execution_count": 27,
   "id": "05d414c0",
   "metadata": {
    "collapsed": true
   },
   "outputs": [],
   "source": [
    "results=sm.stats.ztest(athletes_df_medals.Height, athletes_df_no_medals.Height)"
   ]
  },
  {
   "cell_type": "code",
   "execution_count": 28,
   "id": "01efec3f",
   "metadata": {
    "collapsed": true
   },
   "outputs": [
    {
     "name": "stdout",
     "output_type": "stream",
     "text": [
      "p = 1.5092759295659256e-20.\n"
     ]
    }
   ],
   "source": [
    "print (f'p = {sm.stats.ztest(athletes_df_medals.Height,athletes_df_no_medals.Height)[1]}.')"
   ]
  },
  {
   "cell_type": "markdown",
   "id": "7e4a6320",
   "metadata": {},
   "source": [
    "**La diferència de mitges d'alçada sí és significativa** ja que p<< alfa(=0.05). La hipotèsis nula es pot rebutjar."
   ]
  },
  {
   "cell_type": "code",
   "execution_count": 29,
   "id": "67cb7679",
   "metadata": {
    "collapsed": true
   },
   "outputs": [],
   "source": [
    "n1=len(athletes_df_medals)\n",
    "mean1=athletes_df_medals.Height.mean()\n"
   ]
  },
  {
   "cell_type": "markdown",
   "id": "0e908963",
   "metadata": {},
   "source": [
    "D'altra banda, donats dos paràmetres d'una base de dades, es pot estudiar si hi ha una correlació relevant entre ells. De tal manera que tindriem les següemts hipòtesis:\n",
    "\n",
    " * H0: els valors dels dos paràmetres no es correlacionen i són independents.\n",
    " * HA: hi ha correlació/dependència entre els valors dels 2 paràmetres.\n",
    " \n",
    " Diferents tests generaran la p-value que ens dirà si rebutgem l'hipòtesis nula:"
   ]
  },
  {
   "cell_type": "code",
   "execution_count": 30,
   "id": "f779baf1",
   "metadata": {
    "collapsed": true
   },
   "outputs": [],
   "source": [
    "# Pearson's Correlation test\n",
    "from scipy.stats import pearsonr\n",
    "def correlation_Pearson (data1,data2):\n",
    "    stat, p = pearsonr(data1, data2)\n",
    "    print('stat=%.3f, p=%.3f' % (stat, p))\n",
    "    if p > 0.05:\n",
    "        print('Probably independent')\n",
    "    else:\n",
    "        print('Probably dependent')"
   ]
  },
  {
   "cell_type": "code",
   "execution_count": 31,
   "id": "d5941eab",
   "metadata": {
    "collapsed": true
   },
   "outputs": [
    {
     "name": "stdout",
     "output_type": "stream",
     "text": [
      "Pearson's Correlation test\n",
      "* * * * * * * * AGE vs HEIGHT* * * * * * * * * *\n",
      "stat=0.012, p=0.027\n",
      "Probably dependent\n",
      "* * * * * * * * HEIGHT vs WEIGHT* * * * * * * * * *\n",
      "stat=0.753, p=0.000\n",
      "Probably dependent\n",
      "* * * * * * * * WEIGHT vs AGE* * * * * * * * * *\n",
      "stat=0.066, p=0.000\n",
      "Probably dependent\n"
     ]
    }
   ],
   "source": [
    "print (\"Pearson's Correlation test\")\n",
    "for x in range(0, len(parameters_Ath)):\n",
    "    \n",
    "    if x==len(parameters_Ath)-1:\n",
    "        y=0\n",
    "    else:\n",
    "        y=x+1\n",
    "    print(f'* * * * * * * * {parameters_Ath_name[x].upper()} vs {parameters_Ath_name[y].upper()}* * * * * * * * * *')\n",
    "    correlation_Pearson(parameters_Ath[x],parameters_Ath[y])\n",
    "    "
   ]
  },
  {
   "cell_type": "code",
   "execution_count": 32,
   "id": "c3fad2a0",
   "metadata": {
    "collapsed": true
   },
   "outputs": [],
   "source": [
    "# Spearman's Rank Correlation Test\n",
    "from scipy.stats import spearmanr\n",
    "def rank_Correl_Spearman(data1, data2):\n",
    "    stat, p = spearmanr(data1, data2)\n",
    "    print('stat=%.3f, p=%.3f' % (stat, p))\n",
    "    if p > 0.05:\n",
    "        print('Probably independent')\n",
    "    else:\n",
    "        print('Probably dependent')"
   ]
  },
  {
   "cell_type": "code",
   "execution_count": 33,
   "id": "1d6bf0ab",
   "metadata": {
    "collapsed": true
   },
   "outputs": [
    {
     "name": "stdout",
     "output_type": "stream",
     "text": [
      "Spearman's Rank Correlation test\n",
      "* * * * * * * * AGE vs HEIGHT* * * * * * * * * *\n",
      "stat=0.015, p=0.009\n",
      "Probably dependent\n",
      "* * * * * * * * HEIGHT vs WEIGHT* * * * * * * * * *\n",
      "stat=0.815, p=0.000\n",
      "Probably dependent\n",
      "* * * * * * * * WEIGHT vs AGE* * * * * * * * * *\n",
      "stat=0.021, p=0.000\n",
      "Probably dependent\n"
     ]
    }
   ],
   "source": [
    "print (\"Spearman's Rank Correlation test\")\n",
    "for x in range(0, len(parameters_Ath)):\n",
    "    \n",
    "    if x==len(parameters_Ath)-1:\n",
    "        y=0\n",
    "    else:\n",
    "        y=x+1\n",
    "    print(f'* * * * * * * * {parameters_Ath_name[x].upper()} vs {parameters_Ath_name[y].upper()}* * * * * * * * * *')\n",
    "    rank_Correl_Spearman(parameters_Ath[x],parameters_Ath[y])\n",
    "        \n"
   ]
  },
  {
   "cell_type": "markdown",
   "id": "40ef3a1f",
   "metadata": {},
   "source": [
    "Amb el nivell de significació alfa = 0.05, tots els atributs són dependents entre sí."
   ]
  },
  {
   "cell_type": "markdown",
   "id": "57f93670",
   "metadata": {},
   "source": [
    "Pàgines consultades:\n",
    "https://www.kaggle.com/hamelg/python-for-data-24-hypothesis-testing"
   ]
  },
  {
   "cell_type": "markdown",
   "id": "b68e6fbb",
   "metadata": {},
   "source": [
    "## Nivell 3"
   ]
  },
  {
   "cell_type": "markdown",
   "id": "208af839",
   "metadata": {},
   "source": [
    "**- Exercici 3:**\n",
    "Continua amb el conjunt de dades de tema esportiu que t'agradi i selecciona tres atributs del conjunt de dades. Calcula el p-valor i digues si rebutja la hipòtesi nul·la agafant un alfa de 5%."
   ]
  },
  {
   "cell_type": "markdown",
   "id": "2b7ea318",
   "metadata": {},
   "source": [
    "Inicialment continuem amb tres paràmetres numèrics diferents del dataframe de l'exercici 1 (esportistes que participen en athletisme en les olimpíades): alçada, pes i edat. Amb diferents test mirem si es descarta la hipòtesis nul·la en favor de l'alternativa:\n",
    "  * H0:les distribucions de les mostres són iguals.\n",
    "  * Ha: hi ha com a mínim una distribució diferent. \n",
    "  "
   ]
  },
  {
   "cell_type": "markdown",
   "id": "ebe73eea",
   "metadata": {},
   "source": [
    "**Kruskal-Wallis H Test:**\n",
    "Tests whether the distributions of two or more independent samples are equal or not.\n",
    "\n",
    "Assumptions\n",
    "\n",
    "Observations in each sample are independent and identically distributed (iid).\n",
    "Observations in each sample can be ranked.\n",
    "Interpretation\n",
    "\n",
    "H0: the distributions of all samples are equal.\n",
    "H1: the distributions of one or more samples are not equal."
   ]
  },
  {
   "cell_type": "code",
   "execution_count": 34,
   "id": "2f931e79",
   "metadata": {
    "collapsed": true
   },
   "outputs": [
    {
     "name": "stdout",
     "output_type": "stream",
     "text": [
      "stat=86349.907, p=0.000\n",
      "Probably different distributions\n"
     ]
    }
   ],
   "source": [
    "# Example of the Kruskal-Wallis H Test\n",
    "from scipy.stats import kruskal\n",
    "def test_Kruskal_Wallis_t(data1,data2,data3):\n",
    "    stat, p = kruskal(data1, data2,data3)\n",
    "    print('stat=%.3f, p=%.3f' % (stat, p))\n",
    "    if p > 0.05:\n",
    "        print('Probably the same distribution')\n",
    "    else:\n",
    "        print('Probably different distributions')\n",
    "\n",
    "test_Kruskal_Wallis_t(parameters_Ath[0], parameters_Ath[1], parameters_Ath[2])"
   ]
  },
  {
   "cell_type": "markdown",
   "id": "95f470fa",
   "metadata": {},
   "source": [
    "**Friedman Test:**\n",
    "\n",
    "Tests whether the distributions of two or more paired samples are equal or not.\n",
    "\n",
    "Assumptions\n",
    "\n",
    "- Observations in each sample are independent and identically distributed (iid).\n",
    "- Observations in each sample can be ranked.\n",
    "- Observations across each sample are paired.\n",
    "\n",
    "Interpretation\n",
    "\n",
    "- H0: the distributions of all samples are equal.\n",
    "- H1: the distributions of one or more samples are not equal."
   ]
  },
  {
   "cell_type": "code",
   "execution_count": 35,
   "id": "ff88a1dc",
   "metadata": {
    "collapsed": true
   },
   "outputs": [
    {
     "name": "stdout",
     "output_type": "stream",
     "text": [
      "stat=64745.500, p=0.000\n",
      "Probably different distributions\n"
     ]
    }
   ],
   "source": [
    "# Example of the Friedman Test\n",
    "from scipy.stats import friedmanchisquare\n",
    "def test_Friedman(data1, data2, data3):\n",
    "    stat, p = friedmanchisquare(data1, data2, data3)\n",
    "    print('stat=%.3f, p=%.3f' % (stat, p))\n",
    "    if p > 0.05:\n",
    "        print('Probably the same distribution')\n",
    "    else:\n",
    "        print('Probably different distributions')\n",
    "        \n",
    "test_Friedman(parameters_Ath[0], parameters_Ath[1], parameters_Ath[2])"
   ]
  },
  {
   "cell_type": "code",
   "execution_count": 36,
   "id": "6e92e5b8",
   "metadata": {
    "collapsed": true
   },
   "outputs": [
    {
     "name": "stdout",
     "output_type": "stream",
     "text": [
      "Statistics=1700049.951, p=0.000\n",
      "Different distributions (reject H0)\n"
     ]
    }
   ],
   "source": [
    "# Analysis of Variance test ANOVA\n",
    "from scipy.stats import f_oneway\n",
    "\n",
    "# compara mostres\n",
    "def testANOVA (data1, data2, data3):\n",
    "    stat, p = f_oneway(data1, data2, data3)\n",
    "    print('Statistics=%.3f, p=%.3f' % (stat, p))\n",
    "# interpretació\n",
    "    alpha = 0.05\n",
    "    if p > alpha:\n",
    "        print('Same distributions (fail to reject H0)')\n",
    "    else:\n",
    "        print('Different distributions (reject H0)')\n",
    "\n",
    "testANOVA (parameters_Ath[0], parameters_Ath[1], parameters_Ath[2]) \n"
   ]
  },
  {
   "cell_type": "markdown",
   "id": "96076b98",
   "metadata": {},
   "source": [
    "Com era d'esperar, es descarta la hipotesis nul·la  (p<0.001<<0.05) al ser promitjos totalment diferents."
   ]
  },
  {
   "cell_type": "markdown",
   "id": "cb66f90b",
   "metadata": {},
   "source": [
    "Apliquem els tests però ara per un paràmetre numèric i dos de categòrics que divideixen les dades: alçada(Height), Medalla guanyada o no (Medal) i sexe (Sex) en 8 subgrups. Tindrem:\n"
   ]
  },
  {
   "cell_type": "code",
   "execution_count": 37,
   "id": "d38f22b7",
   "metadata": {
    "collapsed": true
   },
   "outputs": [
    {
     "data": {
      "text/plain": [
       "array([0, 'Silver', 'Bronze', 'Gold'], dtype=object)"
      ]
     },
     "execution_count": 37,
     "metadata": {},
     "output_type": "execute_result"
    }
   ],
   "source": [
    "# Canviem valors nuls per 0 per a que no generin error.\n",
    "athletes_df_no_null.fillna(0, inplace=True)\n",
    "athletes_df_no_null.Medal.unique()"
   ]
  },
  {
   "cell_type": "code",
   "execution_count": 40,
   "id": "51d6442f",
   "metadata": {
    "collapsed": true
   },
   "outputs": [],
   "source": [
    "ath_no_medal_Male=list(athletes_df_no_null[(athletes_df_no_null['Medal']==0)&(athletes_df_no_null['Sex']=='M')].Height)\n",
    "ath_no_medal_Female=list(athletes_df_no_null[(athletes_df_no_null['Medal']==0)&(athletes_df_no_null['Sex']=='F')].Height)\n",
    "ath_Silver_Male=list(athletes_df_no_null[(athletes_df_no_null['Medal']=='Silver')&(athletes_df_no_null['Sex']=='M')].Height)\n",
    "ath_Silver_Female=list(athletes_df_no_null[(athletes_df_no_null['Medal']=='Silver')&(athletes_df_no_null['Sex']=='F')].Height)\n",
    "ath_Bronze_Male=list(athletes_df_no_null[(athletes_df_no_null['Medal']=='Bronze')&(athletes_df_no_null['Sex']=='M')].Height)\n",
    "ath_Bronze_Female=list(athletes_df_no_null[(athletes_df_no_null['Medal']=='Bronze')&(athletes_df_no_null['Sex']=='F')].Height)\n",
    "ath_Gold_Male=list(athletes_df_no_null[(athletes_df_no_null['Medal']=='Gold')&(athletes_df_no_null['Sex']=='M')].Height)\n",
    "ath_Gold_Female=list(athletes_df_no_null[(athletes_df_no_null['Medal']=='Gold')&(athletes_df_no_null['Sex']=='F')].Height)\n",
    "\n"
   ]
  },
  {
   "cell_type": "code",
   "execution_count": 51,
   "id": "968da31d",
   "metadata": {
    "collapsed": true
   },
   "outputs": [
    {
     "name": "stdout",
     "output_type": "stream",
     "text": [
      "\n",
      " * * * * *  TEST KRUSKAL WALLIS  * * * * * \n",
      "Statistics=9702.071, p=0.000\n",
      "\n",
      " * * * * *  TEST ANOVA * * * * * \n",
      "Statistics=1884.722, p=0.000\n"
     ]
    }
   ],
   "source": [
    "print ('\\n','* '*5,'TEST KRUSKAL WALLIS ', '* '*5)\n",
    "stat, p = kruskal(ath_no_medal_Male, ath_no_medal_Female, ath_Silver_Male, ath_Silver_Female, ath_Bronze_Male, ath_Bronze_Female,ath_Gold_Male,ath_Gold_Female)\n",
    "print('Statistics=%.3f, p=%.3f' % (stat, p))\n",
    "\n",
    "print ('\\n','* '*5,'TEST ANOVA', '* '*5)\n",
    "stat, p = f_oneway(ath_no_medal_Male, ath_no_medal_Female, ath_Silver_Male, ath_Silver_Female, ath_Bronze_Male, ath_Bronze_Female,ath_Gold_Male,ath_Gold_Female)\n",
    "print('Statistics=%.3f, p=%.3f' % (stat, p))"
   ]
  },
  {
   "cell_type": "markdown",
   "id": "c9e987e5",
   "metadata": {},
   "source": [
    "Els tests rebutgen clarament la hipotesis nul·la (p<0.001<<0.05). Gràficament ens dona la idea de la principal divergència entre distribucions:"
   ]
  },
  {
   "cell_type": "code",
   "execution_count": 61,
   "id": "3a6b21d5",
   "metadata": {
    "collapsed": true
   },
   "outputs": [
    {
     "data": {
      "text/plain": [
       "<AxesSubplot:xlabel='Medal', ylabel='Height'>"
      ]
     },
     "execution_count": 61,
     "metadata": {},
     "output_type": "execute_result"
    },
    {
     "data": {
      "image/png": "[encoded data removed]",
      "text/plain": [
       "<Figure size 432x288 with 1 Axes>"
      ]
     },
     "metadata": {
      "needs_background": "light"
     },
     "output_type": "display_data"
    }
   ],
   "source": [
    "sns.boxplot(x=\"Medal\", y=\"Height\", hue=\"Sex\", data=athletes_df_no_null, palette=\"Set1_r\") "
   ]
  },
  {
   "cell_type": "markdown",
   "id": "4bee2465",
   "metadata": {},
   "source": [
    "Gràficament es veu clarament la diferència entre sexes, les altres diferències són molt més subtils."
   ]
  },
  {
   "cell_type": "markdown",
   "id": "6b97dd2e",
   "metadata": {},
   "source": [
    "Consultat: https://www.reneshbedre.com/blog/anova.html"
   ]
  }
 ],
 "metadata": {
  "kernelspec": {
   "display_name": "Python 3 (ipykernel)",
   "language": "python",
   "name": "python3"
  },
  "language_info": {
   "codemirror_mode": {
    "name": "ipython",
    "version": 3
   },
   "file_extension": ".py",
   "mimetype": "text/x-python",
   "name": "python",
   "nbconvert_exporter": "python",
   "pygments_lexer": "ipython3",
   "version": "3.9.7"
  }
 },
 "nbformat": 4,
 "nbformat_minor": 5
}
